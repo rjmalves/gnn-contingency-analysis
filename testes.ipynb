{
 "cells": [
  {
   "cell_type": "code",
   "execution_count": 1,
   "metadata": {},
   "outputs": [],
   "source": [
    "import pandas as pd"
   ]
  },
  {
   "cell_type": "code",
   "execution_count": 2,
   "metadata": {},
   "outputs": [],
   "source": [
    "df_itaipu11_a2 = pd.read_csv(\"result_a2_itaipu11.csv\", index_col=0)"
   ]
  },
  {
   "cell_type": "code",
   "execution_count": 14,
   "metadata": {},
   "outputs": [
    {
     "data": {
      "text/plain": [
       "Index(['channels', 'regular_precision', 'regular_recall', 'regular_f1-score',\n",
       "       'regular_support', 'critical_precision', 'critical_recall',\n",
       "       'critical_f1-score', 'critical_support', 'macro avg_precision',\n",
       "       'macro avg_recall', 'macro avg_f1-score', 'macro avg_support',\n",
       "       'weighted avg_precision', 'weighted avg_recall',\n",
       "       'weighted avg_f1-score', 'weighted avg_support', 'accuracy'],\n",
       "      dtype='object')"
      ]
     },
     "execution_count": 14,
     "metadata": {},
     "output_type": "execute_result"
    }
   ],
   "source": [
    "itaipu11_group = df_itaipu11_a2.groupby([\"k\", \"train_split\"]).mean()\n",
    "itaipu11_group.columns"
   ]
  },
  {
   "cell_type": "code",
   "execution_count": 15,
   "metadata": {},
   "outputs": [
    {
     "data": {
      "text/plain": [
       "k  train_split\n",
       "3  0.4            0.915333\n",
       "   0.5            0.896239\n",
       "   0.2            0.843938\n",
       "   0.1            0.838946\n",
       "   0.3            0.834336\n",
       "4  0.5            0.819778\n",
       "   0.4            0.819018\n",
       "2  0.4            0.750932\n",
       "4  0.3            0.745437\n",
       "2  0.3            0.742121\n",
       "   0.5            0.742015\n",
       "   0.1            0.715092\n",
       "   0.2            0.709856\n",
       "4  0.1            0.677643\n",
       "   0.2            0.656119\n",
       "1  0.2            0.432560\n",
       "   0.1            0.404311\n",
       "   0.3            0.399889\n",
       "   0.4            0.399696\n",
       "   0.5            0.331741\n",
       "Name: critical_f1-score, dtype: float64"
      ]
     },
     "execution_count": 15,
     "metadata": {},
     "output_type": "execute_result"
    }
   ],
   "source": [
    "col = \"critical_f1-score\"\n",
    "itaipu11_group.sort_values(col, ascending=False)[col]"
   ]
  },
  {
   "cell_type": "code",
   "execution_count": 16,
   "metadata": {},
   "outputs": [
    {
     "data": {
      "text/plain": [
       "k  train_split\n",
       "4  0.5            0.792786\n",
       "   0.4            0.769997\n",
       "   0.3            0.741112\n",
       "3  0.5            0.724631\n",
       "   0.4            0.707829\n",
       "   0.3            0.670887\n",
       "4  0.2            0.660234\n",
       "3  0.2            0.650670\n",
       "4  0.1            0.609569\n",
       "3  0.1            0.603687\n",
       "2  0.5            0.541504\n",
       "   0.4            0.537253\n",
       "   0.3            0.505442\n",
       "   0.2            0.447428\n",
       "   0.1            0.428853\n",
       "1  0.2            0.165819\n",
       "   0.1            0.162439\n",
       "   0.3            0.159577\n",
       "   0.4            0.141624\n",
       "   0.5            0.139920\n",
       "Name: critical_f1-score, dtype: float64"
      ]
     },
     "execution_count": 16,
     "metadata": {},
     "output_type": "execute_result"
    }
   ],
   "source": [
    "df_ieee39_a2 = pd.read_csv(\"result_a2_ieee39.csv\", index_col=0)\n",
    "ieee39_group = df_ieee39_a2.groupby([\"k\", \"train_split\"]).mean()\n",
    "\n",
    "col = \"critical_f1-score\"\n",
    "ieee39_group.sort_values(col, ascending=False)[col]"
   ]
  },
  {
   "cell_type": "code",
   "execution_count": 17,
   "metadata": {},
   "outputs": [
    {
     "data": {
      "text/plain": [
       "k  train_split\n",
       "1  0.3            0.482490\n",
       "   0.4            0.477177\n",
       "   0.2            0.461523\n",
       "   0.5            0.452617\n",
       "2  0.3            0.446191\n",
       "   0.2            0.425727\n",
       "   0.1            0.416392\n",
       "3  0.3            0.414994\n",
       "2  0.4            0.414941\n",
       "3  0.2            0.407416\n",
       "1  0.1            0.398782\n",
       "3  0.1            0.396011\n",
       "   0.4            0.390942\n",
       "2  0.5            0.389751\n",
       "3  0.5            0.379360\n",
       "4  0.2            0.372980\n",
       "   0.3            0.365831\n",
       "   0.4            0.356228\n",
       "   0.1            0.340644\n",
       "   0.5            0.332302\n",
       "Name: critical_f1-score, dtype: float64"
      ]
     },
     "execution_count": 17,
     "metadata": {},
     "output_type": "execute_result"
    }
   ],
   "source": [
    "df_ieee57_a2 = pd.read_csv(\"result_a2_ieee57.csv\", index_col=0)\n",
    "ieee57_group = df_ieee57_a2.groupby([\"k\", \"train_split\"]).mean()\n",
    "\n",
    "col = \"critical_f1-score\"\n",
    "ieee57_group.sort_values(col, ascending=False)[col]"
   ]
  },
  {
   "cell_type": "code",
   "execution_count": null,
   "metadata": {},
   "outputs": [],
   "source": []
  }
 ],
 "metadata": {
  "interpreter": {
   "hash": "ca0a2e4aaaf2499b20aacfbed62cb2c6cf180f1e5acb3410940b48836e450d74"
  },
  "kernelspec": {
   "display_name": "Python 3",
   "language": "python",
   "name": "python3"
  },
  "language_info": {
   "codemirror_mode": {
    "name": "ipython",
    "version": 3
   },
   "file_extension": ".py",
   "mimetype": "text/x-python",
   "name": "python",
   "nbconvert_exporter": "python",
   "pygments_lexer": "ipython3",
   "version": "3.8.10"
  }
 },
 "nbformat": 4,
 "nbformat_minor": 2
}
